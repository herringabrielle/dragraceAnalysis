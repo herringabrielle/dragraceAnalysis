{
 "cells": [
  {
   "cell_type": "markdown",
   "metadata": {},
   "source": [
    "View any data saved locally in an easy to use website.  This website allows you to view the data, zoom in, and apply filters. "
   ]
  },
  {
   "cell_type": "code",
   "execution_count": 1,
   "metadata": {},
   "outputs": [],
   "source": [
    "import obspy\n",
    "import numpy as np\n",
    "import math\n",
    "import cmath\n",
    "import serveobspy\n",
    "from obspy import UTCDateTime, read, Trace, Stream\n",
    "import dragrace\n",
    "import SeismogramTasks as sTasks\n",
    "from datetime import datetime, timedelta\n",
    "\n",
    "import matplotlib.pyplot as plt\n",
    "import matplotlib\n",
    "import numpy as np\n",
    "import matplotlib\n",
    "%matplotlib inline\n",
    "\n",
    "import serveobspy\n",
    "import dragrace"
   ]
  },
  {
   "cell_type": "markdown",
   "metadata": {},
   "source": [
    "Run the lines below once to load the website.  Then in your internet browser, go to \n",
    "\n",
    "http://localhost:8000/"
   ]
  },
  {
   "cell_type": "code",
   "execution_count": 5,
   "metadata": {
    "scrolled": true
   },
   "outputs": [
    {
     "name": "stderr",
     "output_type": "stream",
     "text": [
      "http server started at http://127.0.0.1:8000\n",
      "websocket server started ws://127.0.0.1:8001\n"
     ]
    }
   ],
   "source": [
    "serveSeis = serveobspy.ServeObsPy('www')\n",
    "serveSeis.serveData()"
   ]
  },
  {
   "cell_type": "markdown",
   "metadata": {},
   "source": [
    "Choose a start time, paste it below as 'start'"
   ]
  },
  {
   "cell_type": "code",
   "execution_count": 2,
   "metadata": {},
   "outputs": [],
   "source": [
    "# 1.  Choose the data file by selecting a time\n",
    "start = '2019-10-12T18:18:30Z' # Funny Car Q4 Heat 4"
   ]
  },
  {
   "cell_type": "code",
   "execution_count": 8,
   "metadata": {
    "scrolled": true
   },
   "outputs": [],
   "source": [
    "from obspy import read\n",
    "# 2.  load the data file with selected station in the three components \n",
    "# Edit your file path\n",
    "\n",
    "stx = read(\"./fallClean/Corrected/FAr_FL660_\" + start + \"_HNX.mseed\")\n",
    "sty = read(\"./fallClean/Corrected/FAr_FL660_\" + start + \"_HNY.mseed\")\n",
    "stz = read(\"./fallClean/Corrected/FAr_FL660_\" + start + \"_HNZ.mseed\")"
   ]
  },
  {
   "cell_type": "code",
   "execution_count": 7,
   "metadata": {},
   "outputs": [
    {
     "name": "stderr",
     "output_type": "stream",
     "text": [
      "127.0.0.1 - - [26/Apr/2020 20:36:08] \"GET /dataset HTTP/1.1\" 200 -\n",
      "127.0.0.1 - - [26/Apr/2020 20:36:08] \"GET /seismograms/4584479152/mseed HTTP/1.1\" 200 -\n",
      "127.0.0.1 - - [26/Apr/2020 20:36:08] \"GET /seismograms/4584479152/stats HTTP/1.1\" 200 -\n",
      "127.0.0.1 - - [26/Apr/2020 20:36:08] \"GET /dataset HTTP/1.1\" 200 -\n"
     ]
    }
   ],
   "source": [
    "# 3. Publish the component to the website\n",
    "\n",
    "serveSeis.stream= sty # stx # stz "
   ]
  },
  {
   "cell_type": "markdown",
   "metadata": {},
   "source": [
    "View your seismic trace here\n",
    "\n",
    "http://localhost:8000/"
   ]
  }
 ],
 "metadata": {
  "kernelspec": {
   "display_name": "Python 3",
   "language": "python",
   "name": "python3"
  },
  "language_info": {
   "codemirror_mode": {
    "name": "ipython",
    "version": 3
   },
   "file_extension": ".py",
   "mimetype": "text/x-python",
   "name": "python",
   "nbconvert_exporter": "python",
   "pygments_lexer": "ipython3",
   "version": "3.7.3"
  }
 },
 "nbformat": 4,
 "nbformat_minor": 4
}
